{
  "nbformat": 4,
  "nbformat_minor": 0,
  "metadata": {
    "colab": {
      "provenance": [],
      "collapsed_sections": [],
      "machine_shape": "hm"
    },
    "kernelspec": {
      "name": "python3",
      "display_name": "Python 3"
    },
    "language_info": {
      "name": "python"
    },
    "accelerator": "GPU",
    "gpuClass": "premium"
  },
  "cells": [
    {
      "cell_type": "code",
      "execution_count": null,
      "metadata": {
        "id": "UQS44VC58dbb"
      },
      "outputs": [],
      "source": [
        "import pickle\n",
        "import unicodedata\n",
        "import regex as re\n",
        "import numpy as np\n",
        "import unicodedata\n",
        "import regex as re\n",
        "import matplotlib.pyplot as plt\n",
        "import random\n",
        "import math\n",
        "from tensorflow.keras.models import Model\n",
        "import pandas as pd\n",
        "from google.colab import drive\n",
        "import tensorflow as tf\n",
        "from keras.preprocessing.text import Tokenizer\n",
        "from keras_preprocessing.sequence import pad_sequences\n",
        "from keras.layers import Embedding,LSTM,Dense,Softmax"
      ]
    },
    {
      "cell_type": "code",
      "source": [
        "from google.colab import drive\n",
        "drive.mount('/content/drive')"
      ],
      "metadata": {
        "colab": {
          "base_uri": "https://localhost:8080/"
        },
        "id": "VcsEhBWz8jyb",
        "outputId": "c12d58e7-8976-4cc9-812d-40ec1d74801b"
      },
      "execution_count": null,
      "outputs": [
        {
          "output_type": "stream",
          "name": "stdout",
          "text": [
            "Mounted at /content/drive\n"
          ]
        }
      ]
    },
    {
      "cell_type": "markdown",
      "source": [
        "## 1. Creating data"
      ],
      "metadata": {
        "id": "yiEbYov-irAl"
      }
    },
    {
      "cell_type": "code",
      "source": [
        "df = pd.read_csv(\"/content/drive/MyDrive/DATA SCIENCE/CASE STUDY 2/data_500k.csv\")\n",
        "df = df.dropna()\n",
        "df.rename(columns = {'original':'correct',\"modified\":\"wrong\"}, inplace = True)\n",
        "df.head()"
      ],
      "metadata": {
        "colab": {
          "base_uri": "https://localhost:8080/",
          "height": 206
        },
        "id": "sgp1vR-Le_bn",
        "outputId": "1b7d975f-a19a-43fb-8b3d-1675181238b1"
      },
      "execution_count": null,
      "outputs": [
        {
          "output_type": "execute_result",
          "data": {
            "text/plain": [
              "       correct          wrong\n",
              "0  they do not  they due not \n",
              "1   they do to   they do too \n",
              "2    i hope so     i hope so \n",
              "3     she okay      she okay \n",
              "4     let's go      let's go "
            ],
            "text/html": [
              "\n",
              "  <div id=\"df-00a9ade8-e6c7-4824-a293-6fea6c5b0c6d\">\n",
              "    <div class=\"colab-df-container\">\n",
              "      <div>\n",
              "<style scoped>\n",
              "    .dataframe tbody tr th:only-of-type {\n",
              "        vertical-align: middle;\n",
              "    }\n",
              "\n",
              "    .dataframe tbody tr th {\n",
              "        vertical-align: top;\n",
              "    }\n",
              "\n",
              "    .dataframe thead th {\n",
              "        text-align: right;\n",
              "    }\n",
              "</style>\n",
              "<table border=\"1\" class=\"dataframe\">\n",
              "  <thead>\n",
              "    <tr style=\"text-align: right;\">\n",
              "      <th></th>\n",
              "      <th>correct</th>\n",
              "      <th>wrong</th>\n",
              "    </tr>\n",
              "  </thead>\n",
              "  <tbody>\n",
              "    <tr>\n",
              "      <th>0</th>\n",
              "      <td>they do not</td>\n",
              "      <td>they due not</td>\n",
              "    </tr>\n",
              "    <tr>\n",
              "      <th>1</th>\n",
              "      <td>they do to</td>\n",
              "      <td>they do too</td>\n",
              "    </tr>\n",
              "    <tr>\n",
              "      <th>2</th>\n",
              "      <td>i hope so</td>\n",
              "      <td>i hope so</td>\n",
              "    </tr>\n",
              "    <tr>\n",
              "      <th>3</th>\n",
              "      <td>she okay</td>\n",
              "      <td>she okay</td>\n",
              "    </tr>\n",
              "    <tr>\n",
              "      <th>4</th>\n",
              "      <td>let's go</td>\n",
              "      <td>let's go</td>\n",
              "    </tr>\n",
              "  </tbody>\n",
              "</table>\n",
              "</div>\n",
              "      <button class=\"colab-df-convert\" onclick=\"convertToInteractive('df-00a9ade8-e6c7-4824-a293-6fea6c5b0c6d')\"\n",
              "              title=\"Convert this dataframe to an interactive table.\"\n",
              "              style=\"display:none;\">\n",
              "        \n",
              "  <svg xmlns=\"http://www.w3.org/2000/svg\" height=\"24px\"viewBox=\"0 0 24 24\"\n",
              "       width=\"24px\">\n",
              "    <path d=\"M0 0h24v24H0V0z\" fill=\"none\"/>\n",
              "    <path d=\"M18.56 5.44l.94 2.06.94-2.06 2.06-.94-2.06-.94-.94-2.06-.94 2.06-2.06.94zm-11 1L8.5 8.5l.94-2.06 2.06-.94-2.06-.94L8.5 2.5l-.94 2.06-2.06.94zm10 10l.94 2.06.94-2.06 2.06-.94-2.06-.94-.94-2.06-.94 2.06-2.06.94z\"/><path d=\"M17.41 7.96l-1.37-1.37c-.4-.4-.92-.59-1.43-.59-.52 0-1.04.2-1.43.59L10.3 9.45l-7.72 7.72c-.78.78-.78 2.05 0 2.83L4 21.41c.39.39.9.59 1.41.59.51 0 1.02-.2 1.41-.59l7.78-7.78 2.81-2.81c.8-.78.8-2.07 0-2.86zM5.41 20L4 18.59l7.72-7.72 1.47 1.35L5.41 20z\"/>\n",
              "  </svg>\n",
              "      </button>\n",
              "      \n",
              "  <style>\n",
              "    .colab-df-container {\n",
              "      display:flex;\n",
              "      flex-wrap:wrap;\n",
              "      gap: 12px;\n",
              "    }\n",
              "\n",
              "    .colab-df-convert {\n",
              "      background-color: #E8F0FE;\n",
              "      border: none;\n",
              "      border-radius: 50%;\n",
              "      cursor: pointer;\n",
              "      display: none;\n",
              "      fill: #1967D2;\n",
              "      height: 32px;\n",
              "      padding: 0 0 0 0;\n",
              "      width: 32px;\n",
              "    }\n",
              "\n",
              "    .colab-df-convert:hover {\n",
              "      background-color: #E2EBFA;\n",
              "      box-shadow: 0px 1px 2px rgba(60, 64, 67, 0.3), 0px 1px 3px 1px rgba(60, 64, 67, 0.15);\n",
              "      fill: #174EA6;\n",
              "    }\n",
              "\n",
              "    [theme=dark] .colab-df-convert {\n",
              "      background-color: #3B4455;\n",
              "      fill: #D2E3FC;\n",
              "    }\n",
              "\n",
              "    [theme=dark] .colab-df-convert:hover {\n",
              "      background-color: #434B5C;\n",
              "      box-shadow: 0px 1px 3px 1px rgba(0, 0, 0, 0.15);\n",
              "      filter: drop-shadow(0px 1px 2px rgba(0, 0, 0, 0.3));\n",
              "      fill: #FFFFFF;\n",
              "    }\n",
              "  </style>\n",
              "\n",
              "      <script>\n",
              "        const buttonEl =\n",
              "          document.querySelector('#df-00a9ade8-e6c7-4824-a293-6fea6c5b0c6d button.colab-df-convert');\n",
              "        buttonEl.style.display =\n",
              "          google.colab.kernel.accessAllowed ? 'block' : 'none';\n",
              "\n",
              "        async function convertToInteractive(key) {\n",
              "          const element = document.querySelector('#df-00a9ade8-e6c7-4824-a293-6fea6c5b0c6d');\n",
              "          const dataTable =\n",
              "            await google.colab.kernel.invokeFunction('convertToInteractive',\n",
              "                                                     [key], {});\n",
              "          if (!dataTable) return;\n",
              "\n",
              "          const docLinkHtml = 'Like what you see? Visit the ' +\n",
              "            '<a target=\"_blank\" href=https://colab.research.google.com/notebooks/data_table.ipynb>data table notebook</a>'\n",
              "            + ' to learn more about interactive tables.';\n",
              "          element.innerHTML = '';\n",
              "          dataTable['output_type'] = 'display_data';\n",
              "          await google.colab.output.renderOutput(dataTable, element);\n",
              "          const docLink = document.createElement('div');\n",
              "          docLink.innerHTML = docLinkHtml;\n",
              "          element.appendChild(docLink);\n",
              "        }\n",
              "      </script>\n",
              "    </div>\n",
              "  </div>\n",
              "  "
            ]
          },
          "metadata": {},
          "execution_count": 3
        }
      ]
    },
    {
      "cell_type": "markdown",
      "source": [
        "## 2. Distribution of length of sentences"
      ],
      "metadata": {
        "id": "8D_DBqFDg_D5"
      }
    },
    {
      "cell_type": "code",
      "source": [
        "corr_lengths = df['correct'].str.split().apply(len)\n",
        "wrng_lengths = df['wrong'].str.split().apply(len)\n",
        "\n",
        "\n",
        "for i in range(0,101,10):\n",
        "    print(i,np.percentile(corr_lengths, i))\n",
        "for i in range(90,101):\n",
        "    print(i,np.percentile(corr_lengths, i))\n",
        "for i in [99.1,99.2,99.3,99.4,99.5,99.6,99.7,99.8,99.9,100]:\n",
        "    print(i,np.percentile(corr_lengths, i))"
      ],
      "metadata": {
        "colab": {
          "base_uri": "https://localhost:8080/"
        },
        "id": "thtb7enN-TEn",
        "outputId": "28a10b80-8523-48c3-ea88-cc5ed7ae4a4e"
      },
      "execution_count": null,
      "outputs": [
        {
          "output_type": "stream",
          "name": "stdout",
          "text": [
            "0 1.0\n",
            "10 4.0\n",
            "20 5.0\n",
            "30 6.0\n",
            "40 8.0\n",
            "50 10.0\n",
            "60 12.0\n",
            "70 15.0\n",
            "80 19.0\n",
            "90 27.0\n",
            "100 552.0\n",
            "90 27.0\n",
            "91 29.0\n",
            "92 30.0\n",
            "93 32.0\n",
            "94 34.0\n",
            "95 37.0\n",
            "96 40.0\n",
            "97 45.0\n",
            "98 51.0\n",
            "99 65.0\n",
            "100 552.0\n",
            "99.1 67.0\n",
            "99.2 69.0\n",
            "99.3 73.0\n",
            "99.4 76.0\n",
            "99.5 80.0\n",
            "99.6 86.0\n",
            "99.7 93.0\n",
            "99.8 104.0\n",
            "99.9 124.0\n",
            "100 552.0\n"
          ]
        }
      ]
    },
    {
      "cell_type": "markdown",
      "metadata": {
        "id": "u-6pcMyuREOR"
      },
      "source": [
        "> <font color=\"blue\"><b>We observe the values, 99.2% of the data points are having length &lt; 70, so select the sentences that have words &lt; 70 </b> </font>"
      ]
    },
    {
      "cell_type": "code",
      "source": [
        "max_length = 70"
      ],
      "metadata": {
        "id": "EIbem0biqBHs"
      },
      "execution_count": null,
      "outputs": []
    },
    {
      "cell_type": "markdown",
      "source": [
        "## 3. Preparing data for ENCODER DECODER"
      ],
      "metadata": {
        "id": "pXJw57kChMbn"
      }
    },
    {
      "cell_type": "code",
      "source": [
        "df['wrng_lengths'] = df['wrong'].str.split().apply(len)\n",
        "df = df[df['wrng_lengths'] < 70]\n",
        "\n",
        "df['corr_lengths'] = df['correct'].str.split().apply(len)\n",
        "df = df[df['corr_lengths'] < 70]\n",
        "\n",
        "df['corr_inp'] = '<start> ' + df['correct'].astype(str)\n",
        "df['corr_out'] = df['correct'].astype(str) + ' <end>'\n",
        "\n",
        "df = df.drop(['correct','corr_lengths','wrng_lengths'], axis=1)\n",
        "# only for the first sentance add a toke <end> so that we will have <end> in tokenizer\n",
        "df.head()"
      ],
      "metadata": {
        "colab": {
          "base_uri": "https://localhost:8080/",
          "height": 310
        },
        "id": "MlYyvkPT-0_z",
        "outputId": "29fc0145-c334-471c-efe8-3ca9e5480ce0"
      },
      "execution_count": null,
      "outputs": [
        {
          "output_type": "stream",
          "name": "stderr",
          "text": [
            "/usr/local/lib/python3.7/dist-packages/ipykernel_launcher.py:7: SettingWithCopyWarning: \n",
            "A value is trying to be set on a copy of a slice from a DataFrame.\n",
            "Try using .loc[row_indexer,col_indexer] = value instead\n",
            "\n",
            "See the caveats in the documentation: https://pandas.pydata.org/pandas-docs/stable/user_guide/indexing.html#returning-a-view-versus-a-copy\n",
            "  import sys\n"
          ]
        },
        {
          "output_type": "execute_result",
          "data": {
            "text/plain": [
              "           wrong             corr_inp           corr_out\n",
              "0  they due not   <start> they do not  they do not <end>\n",
              "1   they do too    <start> they do to   they do to <end>\n",
              "2     i hope so     <start> i hope so    i hope so <end>\n",
              "3      she okay      <start> she okay     she okay <end>\n",
              "4      let's go      <start> let's go     let's go <end>"
            ],
            "text/html": [
              "\n",
              "  <div id=\"df-097a65c8-99ba-43cc-a6e9-33921df8ce59\">\n",
              "    <div class=\"colab-df-container\">\n",
              "      <div>\n",
              "<style scoped>\n",
              "    .dataframe tbody tr th:only-of-type {\n",
              "        vertical-align: middle;\n",
              "    }\n",
              "\n",
              "    .dataframe tbody tr th {\n",
              "        vertical-align: top;\n",
              "    }\n",
              "\n",
              "    .dataframe thead th {\n",
              "        text-align: right;\n",
              "    }\n",
              "</style>\n",
              "<table border=\"1\" class=\"dataframe\">\n",
              "  <thead>\n",
              "    <tr style=\"text-align: right;\">\n",
              "      <th></th>\n",
              "      <th>wrong</th>\n",
              "      <th>corr_inp</th>\n",
              "      <th>corr_out</th>\n",
              "    </tr>\n",
              "  </thead>\n",
              "  <tbody>\n",
              "    <tr>\n",
              "      <th>0</th>\n",
              "      <td>they due not</td>\n",
              "      <td>&lt;start&gt; they do not</td>\n",
              "      <td>they do not &lt;end&gt;</td>\n",
              "    </tr>\n",
              "    <tr>\n",
              "      <th>1</th>\n",
              "      <td>they do too</td>\n",
              "      <td>&lt;start&gt; they do to</td>\n",
              "      <td>they do to &lt;end&gt;</td>\n",
              "    </tr>\n",
              "    <tr>\n",
              "      <th>2</th>\n",
              "      <td>i hope so</td>\n",
              "      <td>&lt;start&gt; i hope so</td>\n",
              "      <td>i hope so &lt;end&gt;</td>\n",
              "    </tr>\n",
              "    <tr>\n",
              "      <th>3</th>\n",
              "      <td>she okay</td>\n",
              "      <td>&lt;start&gt; she okay</td>\n",
              "      <td>she okay &lt;end&gt;</td>\n",
              "    </tr>\n",
              "    <tr>\n",
              "      <th>4</th>\n",
              "      <td>let's go</td>\n",
              "      <td>&lt;start&gt; let's go</td>\n",
              "      <td>let's go &lt;end&gt;</td>\n",
              "    </tr>\n",
              "  </tbody>\n",
              "</table>\n",
              "</div>\n",
              "      <button class=\"colab-df-convert\" onclick=\"convertToInteractive('df-097a65c8-99ba-43cc-a6e9-33921df8ce59')\"\n",
              "              title=\"Convert this dataframe to an interactive table.\"\n",
              "              style=\"display:none;\">\n",
              "        \n",
              "  <svg xmlns=\"http://www.w3.org/2000/svg\" height=\"24px\"viewBox=\"0 0 24 24\"\n",
              "       width=\"24px\">\n",
              "    <path d=\"M0 0h24v24H0V0z\" fill=\"none\"/>\n",
              "    <path d=\"M18.56 5.44l.94 2.06.94-2.06 2.06-.94-2.06-.94-.94-2.06-.94 2.06-2.06.94zm-11 1L8.5 8.5l.94-2.06 2.06-.94-2.06-.94L8.5 2.5l-.94 2.06-2.06.94zm10 10l.94 2.06.94-2.06 2.06-.94-2.06-.94-.94-2.06-.94 2.06-2.06.94z\"/><path d=\"M17.41 7.96l-1.37-1.37c-.4-.4-.92-.59-1.43-.59-.52 0-1.04.2-1.43.59L10.3 9.45l-7.72 7.72c-.78.78-.78 2.05 0 2.83L4 21.41c.39.39.9.59 1.41.59.51 0 1.02-.2 1.41-.59l7.78-7.78 2.81-2.81c.8-.78.8-2.07 0-2.86zM5.41 20L4 18.59l7.72-7.72 1.47 1.35L5.41 20z\"/>\n",
              "  </svg>\n",
              "      </button>\n",
              "      \n",
              "  <style>\n",
              "    .colab-df-container {\n",
              "      display:flex;\n",
              "      flex-wrap:wrap;\n",
              "      gap: 12px;\n",
              "    }\n",
              "\n",
              "    .colab-df-convert {\n",
              "      background-color: #E8F0FE;\n",
              "      border: none;\n",
              "      border-radius: 50%;\n",
              "      cursor: pointer;\n",
              "      display: none;\n",
              "      fill: #1967D2;\n",
              "      height: 32px;\n",
              "      padding: 0 0 0 0;\n",
              "      width: 32px;\n",
              "    }\n",
              "\n",
              "    .colab-df-convert:hover {\n",
              "      background-color: #E2EBFA;\n",
              "      box-shadow: 0px 1px 2px rgba(60, 64, 67, 0.3), 0px 1px 3px 1px rgba(60, 64, 67, 0.15);\n",
              "      fill: #174EA6;\n",
              "    }\n",
              "\n",
              "    [theme=dark] .colab-df-convert {\n",
              "      background-color: #3B4455;\n",
              "      fill: #D2E3FC;\n",
              "    }\n",
              "\n",
              "    [theme=dark] .colab-df-convert:hover {\n",
              "      background-color: #434B5C;\n",
              "      box-shadow: 0px 1px 3px 1px rgba(0, 0, 0, 0.15);\n",
              "      filter: drop-shadow(0px 1px 2px rgba(0, 0, 0, 0.3));\n",
              "      fill: #FFFFFF;\n",
              "    }\n",
              "  </style>\n",
              "\n",
              "      <script>\n",
              "        const buttonEl =\n",
              "          document.querySelector('#df-097a65c8-99ba-43cc-a6e9-33921df8ce59 button.colab-df-convert');\n",
              "        buttonEl.style.display =\n",
              "          google.colab.kernel.accessAllowed ? 'block' : 'none';\n",
              "\n",
              "        async function convertToInteractive(key) {\n",
              "          const element = document.querySelector('#df-097a65c8-99ba-43cc-a6e9-33921df8ce59');\n",
              "          const dataTable =\n",
              "            await google.colab.kernel.invokeFunction('convertToInteractive',\n",
              "                                                     [key], {});\n",
              "          if (!dataTable) return;\n",
              "\n",
              "          const docLinkHtml = 'Like what you see? Visit the ' +\n",
              "            '<a target=\"_blank\" href=https://colab.research.google.com/notebooks/data_table.ipynb>data table notebook</a>'\n",
              "            + ' to learn more about interactive tables.';\n",
              "          element.innerHTML = '';\n",
              "          dataTable['output_type'] = 'display_data';\n",
              "          await google.colab.output.renderOutput(dataTable, element);\n",
              "          const docLink = document.createElement('div');\n",
              "          docLink.innerHTML = docLinkHtml;\n",
              "          element.appendChild(docLink);\n",
              "        }\n",
              "      </script>\n",
              "    </div>\n",
              "  </div>\n",
              "  "
            ]
          },
          "metadata": {},
          "execution_count": 6
        }
      ]
    },
    {
      "cell_type": "code",
      "source": [],
      "metadata": {
        "id": "0rSHbQbAAYXq"
      },
      "execution_count": null,
      "outputs": []
    },
    {
      "cell_type": "markdown",
      "metadata": {
        "id": "mNkmddZ1REOW"
      },
      "source": [
        "##4. Getting train and test "
      ]
    },
    {
      "cell_type": "code",
      "metadata": {
        "id": "UG50P52vhMu8"
      },
      "source": [
        "from sklearn.model_selection import train_test_split\n",
        "train, validation = train_test_split(df, test_size=0.2)"
      ],
      "execution_count": null,
      "outputs": []
    },
    {
      "cell_type": "code",
      "metadata": {
        "id": "9mp9dzm1hwv-",
        "colab": {
          "base_uri": "https://localhost:8080/"
        },
        "outputId": "8036ba1a-f3f0-4295-dafc-e1d34d7ce9ce"
      },
      "source": [
        "print(train.shape, validation.shape)\n",
        "# for one sentence we will be adding <end> token so that the tokanizer learns the word <end>\n",
        "# with this we can use only one tokenizer for both encoder output and decoder output\n",
        "train.iloc[0]['corr_inp']= str(train.iloc[0]['corr_inp'])+' <end>'\n",
        "train.iloc[0]['corr_out']= str(train.iloc[0]['corr_out'])+' <end>'"
      ],
      "execution_count": null,
      "outputs": [
        {
          "output_type": "stream",
          "name": "stdout",
          "text": [
            "(481389, 3) (120348, 3)\n"
          ]
        }
      ]
    },
    {
      "cell_type": "code",
      "metadata": {
        "id": "Su69ZPzTsxmn",
        "colab": {
          "base_uri": "https://localhost:8080/",
          "height": 206
        },
        "outputId": "63cf9352-ccad-4a10-91bb-0f422070faf0"
      },
      "source": [
        "train.head()"
      ],
      "execution_count": null,
      "outputs": [
        {
          "output_type": "execute_result",
          "data": {
            "text/plain": [
              "                                                    wrong  \\\n",
              "47054                                 she did a harriman    \n",
              "162063  i hate to conduct business on the lanai why do...   \n",
              "76251                                      christmastime    \n",
              "200506  i got trapped and you no it sew let's halve su...   \n",
              "398929  he is fine and we know the jokes when it gets ...   \n",
              "\n",
              "                                                 corr_inp  \\\n",
              "47054                    <start> she did a harriman <end>   \n",
              "162063  <start> i hate to conduct business on the lana...   \n",
              "76251                               <start> christmastime   \n",
              "200506  <start> i got trapped and you know it so let's...   \n",
              "398929  <start> he is fine  and we know the jokes when...   \n",
              "\n",
              "                                                 corr_out  \n",
              "47054                      she did a harriman <end> <end>  \n",
              "162063  i hate to conduct business on the lanai why do...  \n",
              "76251                                 christmastime <end>  \n",
              "200506  i got trapped and you know it so let's have so...  \n",
              "398929  he is fine  and we know the jokes when it gets...  "
            ],
            "text/html": [
              "\n",
              "  <div id=\"df-615ef7d6-1227-4fd6-9ff9-fc672490bd55\">\n",
              "    <div class=\"colab-df-container\">\n",
              "      <div>\n",
              "<style scoped>\n",
              "    .dataframe tbody tr th:only-of-type {\n",
              "        vertical-align: middle;\n",
              "    }\n",
              "\n",
              "    .dataframe tbody tr th {\n",
              "        vertical-align: top;\n",
              "    }\n",
              "\n",
              "    .dataframe thead th {\n",
              "        text-align: right;\n",
              "    }\n",
              "</style>\n",
              "<table border=\"1\" class=\"dataframe\">\n",
              "  <thead>\n",
              "    <tr style=\"text-align: right;\">\n",
              "      <th></th>\n",
              "      <th>wrong</th>\n",
              "      <th>corr_inp</th>\n",
              "      <th>corr_out</th>\n",
              "    </tr>\n",
              "  </thead>\n",
              "  <tbody>\n",
              "    <tr>\n",
              "      <th>47054</th>\n",
              "      <td>she did a harriman</td>\n",
              "      <td>&lt;start&gt; she did a harriman &lt;end&gt;</td>\n",
              "      <td>she did a harriman &lt;end&gt; &lt;end&gt;</td>\n",
              "    </tr>\n",
              "    <tr>\n",
              "      <th>162063</th>\n",
              "      <td>i hate to conduct business on the lanai why do...</td>\n",
              "      <td>&lt;start&gt; i hate to conduct business on the lana...</td>\n",
              "      <td>i hate to conduct business on the lanai why do...</td>\n",
              "    </tr>\n",
              "    <tr>\n",
              "      <th>76251</th>\n",
              "      <td>christmastime</td>\n",
              "      <td>&lt;start&gt; christmastime</td>\n",
              "      <td>christmastime &lt;end&gt;</td>\n",
              "    </tr>\n",
              "    <tr>\n",
              "      <th>200506</th>\n",
              "      <td>i got trapped and you no it sew let's halve su...</td>\n",
              "      <td>&lt;start&gt; i got trapped and you know it so let's...</td>\n",
              "      <td>i got trapped and you know it so let's have so...</td>\n",
              "    </tr>\n",
              "    <tr>\n",
              "      <th>398929</th>\n",
              "      <td>he is fine and we know the jokes when it gets ...</td>\n",
              "      <td>&lt;start&gt; he is fine  and we know the jokes when...</td>\n",
              "      <td>he is fine  and we know the jokes when it gets...</td>\n",
              "    </tr>\n",
              "  </tbody>\n",
              "</table>\n",
              "</div>\n",
              "      <button class=\"colab-df-convert\" onclick=\"convertToInteractive('df-615ef7d6-1227-4fd6-9ff9-fc672490bd55')\"\n",
              "              title=\"Convert this dataframe to an interactive table.\"\n",
              "              style=\"display:none;\">\n",
              "        \n",
              "  <svg xmlns=\"http://www.w3.org/2000/svg\" height=\"24px\"viewBox=\"0 0 24 24\"\n",
              "       width=\"24px\">\n",
              "    <path d=\"M0 0h24v24H0V0z\" fill=\"none\"/>\n",
              "    <path d=\"M18.56 5.44l.94 2.06.94-2.06 2.06-.94-2.06-.94-.94-2.06-.94 2.06-2.06.94zm-11 1L8.5 8.5l.94-2.06 2.06-.94-2.06-.94L8.5 2.5l-.94 2.06-2.06.94zm10 10l.94 2.06.94-2.06 2.06-.94-2.06-.94-.94-2.06-.94 2.06-2.06.94z\"/><path d=\"M17.41 7.96l-1.37-1.37c-.4-.4-.92-.59-1.43-.59-.52 0-1.04.2-1.43.59L10.3 9.45l-7.72 7.72c-.78.78-.78 2.05 0 2.83L4 21.41c.39.39.9.59 1.41.59.51 0 1.02-.2 1.41-.59l7.78-7.78 2.81-2.81c.8-.78.8-2.07 0-2.86zM5.41 20L4 18.59l7.72-7.72 1.47 1.35L5.41 20z\"/>\n",
              "  </svg>\n",
              "      </button>\n",
              "      \n",
              "  <style>\n",
              "    .colab-df-container {\n",
              "      display:flex;\n",
              "      flex-wrap:wrap;\n",
              "      gap: 12px;\n",
              "    }\n",
              "\n",
              "    .colab-df-convert {\n",
              "      background-color: #E8F0FE;\n",
              "      border: none;\n",
              "      border-radius: 50%;\n",
              "      cursor: pointer;\n",
              "      display: none;\n",
              "      fill: #1967D2;\n",
              "      height: 32px;\n",
              "      padding: 0 0 0 0;\n",
              "      width: 32px;\n",
              "    }\n",
              "\n",
              "    .colab-df-convert:hover {\n",
              "      background-color: #E2EBFA;\n",
              "      box-shadow: 0px 1px 2px rgba(60, 64, 67, 0.3), 0px 1px 3px 1px rgba(60, 64, 67, 0.15);\n",
              "      fill: #174EA6;\n",
              "    }\n",
              "\n",
              "    [theme=dark] .colab-df-convert {\n",
              "      background-color: #3B4455;\n",
              "      fill: #D2E3FC;\n",
              "    }\n",
              "\n",
              "    [theme=dark] .colab-df-convert:hover {\n",
              "      background-color: #434B5C;\n",
              "      box-shadow: 0px 1px 3px 1px rgba(0, 0, 0, 0.15);\n",
              "      filter: drop-shadow(0px 1px 2px rgba(0, 0, 0, 0.3));\n",
              "      fill: #FFFFFF;\n",
              "    }\n",
              "  </style>\n",
              "\n",
              "      <script>\n",
              "        const buttonEl =\n",
              "          document.querySelector('#df-615ef7d6-1227-4fd6-9ff9-fc672490bd55 button.colab-df-convert');\n",
              "        buttonEl.style.display =\n",
              "          google.colab.kernel.accessAllowed ? 'block' : 'none';\n",
              "\n",
              "        async function convertToInteractive(key) {\n",
              "          const element = document.querySelector('#df-615ef7d6-1227-4fd6-9ff9-fc672490bd55');\n",
              "          const dataTable =\n",
              "            await google.colab.kernel.invokeFunction('convertToInteractive',\n",
              "                                                     [key], {});\n",
              "          if (!dataTable) return;\n",
              "\n",
              "          const docLinkHtml = 'Like what you see? Visit the ' +\n",
              "            '<a target=\"_blank\" href=https://colab.research.google.com/notebooks/data_table.ipynb>data table notebook</a>'\n",
              "            + ' to learn more about interactive tables.';\n",
              "          element.innerHTML = '';\n",
              "          dataTable['output_type'] = 'display_data';\n",
              "          await google.colab.output.renderOutput(dataTable, element);\n",
              "          const docLink = document.createElement('div');\n",
              "          docLink.innerHTML = docLinkHtml;\n",
              "          element.appendChild(docLink);\n",
              "        }\n",
              "      </script>\n",
              "    </div>\n",
              "  </div>\n",
              "  "
            ]
          },
          "metadata": {},
          "execution_count": 9
        }
      ]
    },
    {
      "cell_type": "code",
      "metadata": {
        "id": "CGqQDR8FWV3D",
        "colab": {
          "base_uri": "https://localhost:8080/",
          "height": 206
        },
        "outputId": "d407ff64-c6ef-49e8-bcc8-3af37aaf73ee"
      },
      "source": [
        "validation.head()"
      ],
      "execution_count": null,
      "outputs": [
        {
          "output_type": "execute_result",
          "data": {
            "text/plain": [
              "                                                    wrong  \\\n",
              "78393   that's fine stella now would you make me a san...   \n",
              "605826  aye know what you're thinking you'd be a lot s...   \n",
              "479401                                   you chews these    \n",
              "398034              you knowlike restaurants night clubs    \n",
              "102596  take good look around there's nobody in this p...   \n",
              "\n",
              "                                                 corr_inp  \\\n",
              "78393   <start> that's fine stella now would you make ...   \n",
              "605826  <start> i know what you're thinking  you'd be ...   \n",
              "479401                           <start> you choose these   \n",
              "398034       <start> you knowlike restaurants night clubs   \n",
              "102596  <start> take a good look around there's nobody...   \n",
              "\n",
              "                                                 corr_out  \n",
              "78393   that's fine stella now would you make me a san...  \n",
              "605826  i know what you're thinking  you'd be a lot sa...  \n",
              "479401                             you choose these <end>  \n",
              "398034         you knowlike restaurants night clubs <end>  \n",
              "102596  take a good look around there's nobody in this...  "
            ],
            "text/html": [
              "\n",
              "  <div id=\"df-dd2ef961-eb57-4eeb-8e66-ffdfbf19419e\">\n",
              "    <div class=\"colab-df-container\">\n",
              "      <div>\n",
              "<style scoped>\n",
              "    .dataframe tbody tr th:only-of-type {\n",
              "        vertical-align: middle;\n",
              "    }\n",
              "\n",
              "    .dataframe tbody tr th {\n",
              "        vertical-align: top;\n",
              "    }\n",
              "\n",
              "    .dataframe thead th {\n",
              "        text-align: right;\n",
              "    }\n",
              "</style>\n",
              "<table border=\"1\" class=\"dataframe\">\n",
              "  <thead>\n",
              "    <tr style=\"text-align: right;\">\n",
              "      <th></th>\n",
              "      <th>wrong</th>\n",
              "      <th>corr_inp</th>\n",
              "      <th>corr_out</th>\n",
              "    </tr>\n",
              "  </thead>\n",
              "  <tbody>\n",
              "    <tr>\n",
              "      <th>78393</th>\n",
              "      <td>that's fine stella now would you make me a san...</td>\n",
              "      <td>&lt;start&gt; that's fine stella now would you make ...</td>\n",
              "      <td>that's fine stella now would you make me a san...</td>\n",
              "    </tr>\n",
              "    <tr>\n",
              "      <th>605826</th>\n",
              "      <td>aye know what you're thinking you'd be a lot s...</td>\n",
              "      <td>&lt;start&gt; i know what you're thinking  you'd be ...</td>\n",
              "      <td>i know what you're thinking  you'd be a lot sa...</td>\n",
              "    </tr>\n",
              "    <tr>\n",
              "      <th>479401</th>\n",
              "      <td>you chews these</td>\n",
              "      <td>&lt;start&gt; you choose these</td>\n",
              "      <td>you choose these &lt;end&gt;</td>\n",
              "    </tr>\n",
              "    <tr>\n",
              "      <th>398034</th>\n",
              "      <td>you knowlike restaurants night clubs</td>\n",
              "      <td>&lt;start&gt; you knowlike restaurants night clubs</td>\n",
              "      <td>you knowlike restaurants night clubs &lt;end&gt;</td>\n",
              "    </tr>\n",
              "    <tr>\n",
              "      <th>102596</th>\n",
              "      <td>take good look around there's nobody in this p...</td>\n",
              "      <td>&lt;start&gt; take a good look around there's nobody...</td>\n",
              "      <td>take a good look around there's nobody in this...</td>\n",
              "    </tr>\n",
              "  </tbody>\n",
              "</table>\n",
              "</div>\n",
              "      <button class=\"colab-df-convert\" onclick=\"convertToInteractive('df-dd2ef961-eb57-4eeb-8e66-ffdfbf19419e')\"\n",
              "              title=\"Convert this dataframe to an interactive table.\"\n",
              "              style=\"display:none;\">\n",
              "        \n",
              "  <svg xmlns=\"http://www.w3.org/2000/svg\" height=\"24px\"viewBox=\"0 0 24 24\"\n",
              "       width=\"24px\">\n",
              "    <path d=\"M0 0h24v24H0V0z\" fill=\"none\"/>\n",
              "    <path d=\"M18.56 5.44l.94 2.06.94-2.06 2.06-.94-2.06-.94-.94-2.06-.94 2.06-2.06.94zm-11 1L8.5 8.5l.94-2.06 2.06-.94-2.06-.94L8.5 2.5l-.94 2.06-2.06.94zm10 10l.94 2.06.94-2.06 2.06-.94-2.06-.94-.94-2.06-.94 2.06-2.06.94z\"/><path d=\"M17.41 7.96l-1.37-1.37c-.4-.4-.92-.59-1.43-.59-.52 0-1.04.2-1.43.59L10.3 9.45l-7.72 7.72c-.78.78-.78 2.05 0 2.83L4 21.41c.39.39.9.59 1.41.59.51 0 1.02-.2 1.41-.59l7.78-7.78 2.81-2.81c.8-.78.8-2.07 0-2.86zM5.41 20L4 18.59l7.72-7.72 1.47 1.35L5.41 20z\"/>\n",
              "  </svg>\n",
              "      </button>\n",
              "      \n",
              "  <style>\n",
              "    .colab-df-container {\n",
              "      display:flex;\n",
              "      flex-wrap:wrap;\n",
              "      gap: 12px;\n",
              "    }\n",
              "\n",
              "    .colab-df-convert {\n",
              "      background-color: #E8F0FE;\n",
              "      border: none;\n",
              "      border-radius: 50%;\n",
              "      cursor: pointer;\n",
              "      display: none;\n",
              "      fill: #1967D2;\n",
              "      height: 32px;\n",
              "      padding: 0 0 0 0;\n",
              "      width: 32px;\n",
              "    }\n",
              "\n",
              "    .colab-df-convert:hover {\n",
              "      background-color: #E2EBFA;\n",
              "      box-shadow: 0px 1px 2px rgba(60, 64, 67, 0.3), 0px 1px 3px 1px rgba(60, 64, 67, 0.15);\n",
              "      fill: #174EA6;\n",
              "    }\n",
              "\n",
              "    [theme=dark] .colab-df-convert {\n",
              "      background-color: #3B4455;\n",
              "      fill: #D2E3FC;\n",
              "    }\n",
              "\n",
              "    [theme=dark] .colab-df-convert:hover {\n",
              "      background-color: #434B5C;\n",
              "      box-shadow: 0px 1px 3px 1px rgba(0, 0, 0, 0.15);\n",
              "      filter: drop-shadow(0px 1px 2px rgba(0, 0, 0, 0.3));\n",
              "      fill: #FFFFFF;\n",
              "    }\n",
              "  </style>\n",
              "\n",
              "      <script>\n",
              "        const buttonEl =\n",
              "          document.querySelector('#df-dd2ef961-eb57-4eeb-8e66-ffdfbf19419e button.colab-df-convert');\n",
              "        buttonEl.style.display =\n",
              "          google.colab.kernel.accessAllowed ? 'block' : 'none';\n",
              "\n",
              "        async function convertToInteractive(key) {\n",
              "          const element = document.querySelector('#df-dd2ef961-eb57-4eeb-8e66-ffdfbf19419e');\n",
              "          const dataTable =\n",
              "            await google.colab.kernel.invokeFunction('convertToInteractive',\n",
              "                                                     [key], {});\n",
              "          if (!dataTable) return;\n",
              "\n",
              "          const docLinkHtml = 'Like what you see? Visit the ' +\n",
              "            '<a target=\"_blank\" href=https://colab.research.google.com/notebooks/data_table.ipynb>data table notebook</a>'\n",
              "            + ' to learn more about interactive tables.';\n",
              "          element.innerHTML = '';\n",
              "          dataTable['output_type'] = 'display_data';\n",
              "          await google.colab.output.renderOutput(dataTable, element);\n",
              "          const docLink = document.createElement('div');\n",
              "          docLink.innerHTML = docLinkHtml;\n",
              "          element.appendChild(docLink);\n",
              "        }\n",
              "      </script>\n",
              "    </div>\n",
              "  </div>\n",
              "  "
            ]
          },
          "metadata": {},
          "execution_count": 10
        }
      ]
    },
    {
      "cell_type": "code",
      "metadata": {
        "id": "cpuPONunjYKj",
        "colab": {
          "base_uri": "https://localhost:8080/",
          "height": 547
        },
        "outputId": "ef740eeb-572e-45cb-c632-54fecfd395c6"
      },
      "source": [
        "wrng_lengths = train['wrong'].str.split().apply(len)\n",
        "corr_lenths = train['corr_inp'].str.split().apply(len)\n",
        "import seaborn as sns\n",
        "sns.kdeplot(wrng_lengths)\n",
        "plt.show()\n",
        "sns.kdeplot(corr_lenths)\n",
        "plt.show()"
      ],
      "execution_count": null,
      "outputs": [
        {
          "output_type": "display_data",
          "data": {
            "text/plain": [
              "<Figure size 432x288 with 1 Axes>"
            ],
            "image/png": "[encoded data removed]"
          },
          "metadata": {
            "needs_background": "light"
          }
        },
        {
          "output_type": "display_data",
          "data": {
            "text/plain": [
              "<Figure size 432x288 with 1 Axes>"
            ],
            "image/png": "[encoded data removed]"
          },
          "metadata": {
            "needs_background": "light"
          }
        }
      ]
    },
    {
      "cell_type": "markdown",
      "source": [
        "Observations:\n",
        "\n",
        "1. We see majority of the sentences contains 0-40 words.\n",
        "2. We have ignored sentences with length more than 70."
      ],
      "metadata": {
        "id": "mrkn83qihatV"
      }
    },
    {
      "cell_type": "markdown",
      "source": [
        "## 5.Tokenization of data"
      ],
      "metadata": {
        "id": "ZWpUStkXEFoR"
      }
    },
    {
      "cell_type": "code",
      "source": [
        "tknizer_wrng = Tokenizer()\n",
        "tknizer_wrng.fit_on_texts(train['wrong'].values)\n",
        "\n",
        "\n",
        "tknizer_corr = Tokenizer(filters='\\t\\n')\n",
        "tknizer_corr.fit_on_texts(train['corr_inp'].values)"
      ],
      "metadata": {
        "id": "esp7F9ls3RPV"
      },
      "execution_count": null,
      "outputs": []
    },
    {
      "cell_type": "code",
      "source": [
        "vocab_size_wrng=len(tknizer_wrng.word_index.keys())\n",
        "print(vocab_size_wrng)\n",
        "vocab_size_corr=len(tknizer_corr.word_index.keys())\n",
        "print(vocab_size_corr)"
      ],
      "metadata": {
        "colab": {
          "base_uri": "https://localhost:8080/"
        },
        "id": "T-owqetx3h89",
        "outputId": "56e53f51-978b-41f3-9125-0843661fdf9c"
      },
      "execution_count": null,
      "outputs": [
        {
          "output_type": "stream",
          "name": "stdout",
          "text": [
            "65901\n",
            "65713\n"
          ]
        }
      ]
    },
    {
      "cell_type": "code",
      "source": [
        "tknizer_corr.word_index['<start>'], tknizer_corr.word_index['<end>']"
      ],
      "metadata": {
        "colab": {
          "base_uri": "https://localhost:8080/"
        },
        "id": "_nsEMBMc3pZh",
        "outputId": "62065369-73e4-4924-b9f7-ea0f74d6e731"
      },
      "execution_count": null,
      "outputs": [
        {
          "output_type": "execute_result",
          "data": {
            "text/plain": [
              "(1, 57429)"
            ]
          },
          "metadata": {},
          "execution_count": 14
        }
      ]
    },
    {
      "cell_type": "code",
      "source": [
        "# saving\n",
        "with open('/content/drive/MyDrive/DATA SCIENCE/CASE STUDY 2/BACKUP DATA/tokenizer_wrong.pickle', 'wb') as handle:\n",
        "    pickle.dump(tknizer_wrng, handle, protocol=pickle.HIGHEST_PROTOCOL)\n",
        "\n",
        "# saving\n",
        "with open('/content/drive/MyDrive/DATA SCIENCE/CASE STUDY 2/BACKUP DATA/tokenizer_correct.pickle', 'wb') as handle:\n",
        "    pickle.dump(tknizer_corr, handle, protocol=pickle.HIGHEST_PROTOCOL)"
      ],
      "metadata": {
        "id": "OOH5SfwQsmh2"
      },
      "execution_count": null,
      "outputs": []
    },
    {
      "cell_type": "markdown",
      "metadata": {
        "id": "xT2R3D6MREOp"
      },
      "source": [
        "## 6.Creating embeddings for english sentences"
      ]
    },
    {
      "cell_type": "code",
      "source": [
        "!wget https://www.dropbox.com/s/ddkmtqz01jc024u/glove.6B.100d.txt"
      ],
      "metadata": {
        "colab": {
          "base_uri": "https://localhost:8080/"
        },
        "id": "7e1z8oTCGxsU",
        "outputId": "94a218a3-450d-4d7b-d57d-54c5f699e1b3"
      },
      "execution_count": null,
      "outputs": [
        {
          "output_type": "stream",
          "name": "stdout",
          "text": [
            "--2022-11-09 16:19:01--  https://www.dropbox.com/s/ddkmtqz01jc024u/glove.6B.100d.txt\n",
            "Resolving www.dropbox.com (www.dropbox.com)... 162.125.3.18, 2620:100:6019:18::a27d:412\n",
            "Connecting to www.dropbox.com (www.dropbox.com)|162.125.3.18|:443... connected.\n",
            "HTTP request sent, awaiting response... 302 Found\n",
            "Location: /s/raw/ddkmtqz01jc024u/glove.6B.100d.txt [following]\n",
            "--2022-11-09 16:19:01--  https://www.dropbox.com/s/raw/ddkmtqz01jc024u/glove.6B.100d.txt\n",
            "Reusing existing connection to www.dropbox.com:443.\n",
            "HTTP request sent, awaiting response... 302 Found\n",
            "Location: https://uc520f0e5c42d41c23461b15dd3f.dl.dropboxusercontent.com/cd/0/inline/BwZenmKaFvsj4Sz7FfwDpLjNhAwgEqINh_Y4pPfPQxywh560ua3FWMT185xjR5odZ0hC_1A6dW9XrtMF2Zx9gFsuySVkXG9Ig98fV_SojrBKFpPcKiYHEQEq0ZdHScnBMXDteeeFgwLykWOr5k7IaajVfy3anwZ22N3mA9I0prWfDw/file# [following]\n",
            "--2022-11-09 16:19:02--  https://uc520f0e5c42d41c23461b15dd3f.dl.dropboxusercontent.com/cd/0/inline/BwZenmKaFvsj4Sz7FfwDpLjNhAwgEqINh_Y4pPfPQxywh560ua3FWMT185xjR5odZ0hC_1A6dW9XrtMF2Zx9gFsuySVkXG9Ig98fV_SojrBKFpPcKiYHEQEq0ZdHScnBMXDteeeFgwLykWOr5k7IaajVfy3anwZ22N3mA9I0prWfDw/file\n",
            "Resolving uc520f0e5c42d41c23461b15dd3f.dl.dropboxusercontent.com (uc520f0e5c42d41c23461b15dd3f.dl.dropboxusercontent.com)... 162.125.64.15, 2620:100:6018:15::a27d:30f\n",
            "Connecting to uc520f0e5c42d41c23461b15dd3f.dl.dropboxusercontent.com (uc520f0e5c42d41c23461b15dd3f.dl.dropboxusercontent.com)|162.125.64.15|:443... connected.\n",
            "HTTP request sent, awaiting response... 200 OK\n",
            "Length: 347116733 (331M) [text/plain]\n",
            "Saving to: ‘glove.6B.100d.txt’\n",
            "\n",
            "glove.6B.100d.txt   100%[===================>] 331.04M  15.5MB/s    in 16s     \n",
            "\n",
            "2022-11-09 16:19:19 (20.7 MB/s) - ‘glove.6B.100d.txt’ saved [347116733/347116733]\n",
            "\n"
          ]
        }
      ]
    },
    {
      "cell_type": "code",
      "metadata": {
        "id": "olaKF9rb_zz1"
      },
      "source": [
        "embeddings_index = dict()\n",
        "f = open('glove.6B.100d.txt')\n",
        "for line in f:\n",
        "    values = line.split()\n",
        "    word = values[0]\n",
        "    coefs = np.asarray(values[1:], dtype='float32')\n",
        "    embeddings_index[word] = coefs\n",
        "f.close()\n",
        "\n",
        "embedding_matrix_enc = np.zeros((vocab_size_wrng+1, 100))\n",
        "for word, i in tknizer_wrng.word_index.items():\n",
        "    embedding_vector = embeddings_index.get(word)\n",
        "    if embedding_vector is not None:\n",
        "        embedding_matrix_enc[i] = embedding_vector\n",
        "\n",
        "\n",
        "\n",
        "embedding_matrix_dec = np.zeros((vocab_size_corr+1, 100))\n",
        "for word, i in tknizer_corr.word_index.items():\n",
        "    embedding_vector = embeddings_index.get(word)\n",
        "    if embedding_vector is not None:\n",
        "        embedding_matrix_dec[i] = embedding_vector"
      ],
      "execution_count": null,
      "outputs": []
    },
    {
      "cell_type": "code",
      "source": [],
      "metadata": {
        "id": "qsdLRMyiG0M_"
      },
      "execution_count": null,
      "outputs": []
    },
    {
      "cell_type": "markdown",
      "metadata": {
        "id": "S8RDrP4xKabR"
      },
      "source": [
        "##7. <font color='blue'>**Implement custom encoder decoder**</font>"
      ]
    },
    {
      "cell_type": "markdown",
      "source": [
        "### 7.1 Creating Encoder and Decoder"
      ],
      "metadata": {
        "id": "e0ostaFKil-q"
      }
    },
    {
      "cell_type": "code",
      "metadata": {
        "id": "zQhRe_YZf4D1"
      },
      "source": [
        "class Encoder(tf.keras.layers.Layer):\n",
        "    def __init__(self, vocab_size, embedding_dim, input_length, enc_units):\n",
        "        super().__init__()\n",
        "        self.vocab_size = vocab_size\n",
        "        self.embedding_dim = 100\n",
        "        self.input_length = input_length\n",
        "        self.enc_units= enc_units\n",
        "        self.lstm_output = 0\n",
        "        self.lstm_state_h=0\n",
        "        self.lstm_state_c=0\n",
        "        \n",
        "    def build(self, input_shape):\n",
        "        # self.embedding = Embedding(input_dim=self.vocab_size, output_dim=self.embedding_dim, input_length=self.input_length,\n",
        "        #                    mask_zero=True, name=\"embedding_layer_encoder\")\n",
        "        self.embedding = Embedding(input_dim=self.vocab_size, output_dim=self.embedding_dim, input_length=self.input_length,\n",
        "                           mask_zero=True, name=\"embedding_layer_decoder\", weights=[embedding_matrix_enc], trainable=False)\n",
        "        self.lstm = LSTM(self.enc_units, return_state=True, return_sequences=True, name=\"Encoder_LSTM\")\n",
        "        \n",
        "    def call(self, input_sentances, training=True):\n",
        "        input_embedd                           = self.embedding(input_sentances)\n",
        "        self.lstm_output, self.lstm_state_h,self.lstm_state_c = self.lstm(input_embedd)\n",
        "        return self.lstm_output, self.lstm_state_h,self.lstm_state_c\n",
        "    def get_states(self):\n",
        "        return self.lstm_state_h,self.lstm_state_c\n",
        "    \n",
        "    \n",
        "class Decoder(tf.keras.layers.Layer):\n",
        "    def __init__(self, vocab_size, embedding_dim, input_length, dec_units):\n",
        "        super().__init__()\n",
        "        self.vocab_size = vocab_size\n",
        "        self.embedding_dim = 100\n",
        "        self.dec_units = dec_units\n",
        "        self.input_length = input_length\n",
        "        # we are using embedding_matrix and not training the embedding layer\n",
        "        self.embedding = Embedding(input_dim=self.vocab_size, output_dim=self.embedding_dim, input_length=self.input_length,\n",
        "                           mask_zero=True, name=\"embedding_layer_decoder\", weights=[embedding_matrix_dec], trainable=False)\n",
        "        self.lstm = LSTM(self.dec_units, return_sequences=True, return_state=True, name=\"Encoder_LSTM\")\n",
        "    \n",
        "    def call(self, target_sentances, state_h, state_c):\n",
        "        target_embedd           = self.embedding(target_sentances)\n",
        "        lstm_output, state_h, state_c     = self.lstm(target_embedd, initial_state=[state_h, state_c])\n",
        "        return lstm_output, state_h, state_c"
      ],
      "execution_count": null,
      "outputs": []
    },
    {
      "cell_type": "markdown",
      "metadata": {
        "id": "dqmICWSdREOu"
      },
      "source": [
        "### 7.2 Creating data pipeline"
      ]
    },
    {
      "cell_type": "code",
      "metadata": {
        "id": "7mBXRd_sus3C"
      },
      "source": [
        "class Dataset:\n",
        "    def __init__(self, data, tknizer_ita, tknizer_eng, max_len):\n",
        "        self.encoder_inps = data['wrong'].values\n",
        "        self.decoder_inps = data['corr_inp'].values\n",
        "        self.decoder_outs = data['corr_out'].values\n",
        "        self.wrng_tokenizer = tknizer_wrng\n",
        "        self.corr_tokenizer = tknizer_corr\n",
        "        self.max_len = max_len\n",
        "\n",
        "    def __getitem__(self, i):\n",
        "        self.encoder_seq = self.wrng_tokenizer.texts_to_sequences([self.encoder_inps[i]]) # need to pass list of values\n",
        "        self.decoder_inp_seq = self.corr_tokenizer.texts_to_sequences([self.decoder_inps[i]])\n",
        "        self.decoder_out_seq = self.corr_tokenizer.texts_to_sequences([self.decoder_outs[i]])\n",
        "\n",
        "        self.encoder_seq = pad_sequences(self.encoder_seq, maxlen=self.max_len, dtype='int32', padding='post')\n",
        "        self.decoder_inp_seq = pad_sequences(self.decoder_inp_seq, maxlen=self.max_len, dtype='int32', padding='post')\n",
        "        self.decoder_out_seq = pad_sequences(self.decoder_out_seq, maxlen=self.max_len, dtype='int32', padding='post')\n",
        "        return self.encoder_seq, self.decoder_inp_seq, self.decoder_out_seq\n",
        "\n",
        "    def __len__(self): # your model.fit_gen requires this function\n",
        "        return len(self.encoder_inps)\n",
        "\n",
        "    \n",
        "class Dataloder(tf.keras.utils.Sequence):    \n",
        "    def __init__(self, dataset, batch_size=1):\n",
        "        self.dataset = dataset\n",
        "        self.batch_size = batch_size\n",
        "        self.indexes = np.arange(len(self.dataset.encoder_inps))\n",
        "\n",
        "\n",
        "    def __getitem__(self, i):\n",
        "        start = i * self.batch_size\n",
        "        stop = (i + 1) * self.batch_size\n",
        "        data = []\n",
        "        for j in range(start, stop):\n",
        "            data.append(self.dataset[j])\n",
        "\n",
        "        batch = [np.squeeze(np.stack(samples, axis=1), axis=0) for samples in zip(*data)]\n",
        "        # we are creating data like ([italian, english_inp], english_out) these are already converted into seq\n",
        "        return tuple([[batch[0],batch[1]],batch[2]])\n",
        "\n",
        "    def __len__(self):  # your model.fit_gen requires this function\n",
        "        return len(self.indexes) // self.batch_size\n",
        "\n",
        "    def on_epoch_end(self):\n",
        "        self.indexes = np.random.permutation(self.indexes)"
      ],
      "execution_count": null,
      "outputs": []
    },
    {
      "cell_type": "code",
      "source": [
        "train.isna().sum()"
      ],
      "metadata": {
        "colab": {
          "base_uri": "https://localhost:8080/"
        },
        "id": "9naXtCjfeXv-",
        "outputId": "119ab62c-dfb9-4414-f3ba-2bc7925fa53c"
      },
      "execution_count": null,
      "outputs": [
        {
          "output_type": "execute_result",
          "data": {
            "text/plain": [
              "wrong       0\n",
              "corr_inp    0\n",
              "corr_out    0\n",
              "dtype: int64"
            ]
          },
          "metadata": {},
          "execution_count": 20
        }
      ]
    },
    {
      "cell_type": "markdown",
      "source": [
        "### 7.3 Defining the Model class"
      ],
      "metadata": {
        "id": "oVOg9tzzjMFP"
      }
    },
    {
      "cell_type": "code",
      "metadata": {
        "id": "sOELLwbcbjSM"
      },
      "source": [
        "# this is the same model we have given in the other reference notebook\n",
        "class MyModel(Model):\n",
        "    def __init__(self, encoder_inputs_length,decoder_inputs_length, output_vocab_size):\n",
        "        super().__init__() # https://stackoverflow.com/a/27134600/4084039\n",
        "        self.encoder = Encoder(vocab_size=vocab_size_wrng +1, embedding_dim=30, input_length=encoder_inputs_length, enc_units=512)\n",
        "        self.decoder = Decoder(vocab_size=vocab_size_corr+1, embedding_dim=30, input_length=decoder_inputs_length, dec_units=512)\n",
        "        self.dense   = Dense(output_vocab_size, activation='softmax')\n",
        "        \n",
        "        \n",
        "    def call(self, data):\n",
        "        input,output = data[0], data[1]\n",
        "        encoder_output, encoder_h, encoder_c = self.encoder(input)\n",
        "        decoder_output,_,_                 = self.decoder(output, encoder_h, encoder_c)\n",
        "        output                               = self.dense(decoder_output)\n",
        "        return output"
      ],
      "execution_count": null,
      "outputs": []
    },
    {
      "cell_type": "markdown",
      "metadata": {
        "id": "pEUZFHrPREO0"
      },
      "source": [
        "### 7.4 Model training"
      ]
    },
    {
      "cell_type": "code",
      "source": [
        "print(train.shape)\n",
        "print(validation.shape)"
      ],
      "metadata": {
        "colab": {
          "base_uri": "https://localhost:8080/"
        },
        "id": "yIsx02X2IO5p",
        "outputId": "956de6ad-f051-48ff-afc8-a23b0bc188da"
      },
      "execution_count": null,
      "outputs": [
        {
          "output_type": "stream",
          "name": "stdout",
          "text": [
            "(481389, 3)\n",
            "(120348, 3)\n"
          ]
        }
      ]
    },
    {
      "cell_type": "code",
      "source": [
        "# max_length = 70"
      ],
      "metadata": {
        "id": "ZNc2zOMbAfrj"
      },
      "execution_count": null,
      "outputs": []
    },
    {
      "cell_type": "code",
      "metadata": {
        "id": "eDKh6iikRUyg",
        "colab": {
          "base_uri": "https://localhost:8080/"
        },
        "outputId": "8fa565e6-979a-4506-dac3-084ada746ddc"
      },
      "source": [
        "train_dataset = Dataset(train[:400000], tknizer_wrng, tknizer_corr, max_length)\n",
        "test_dataset  = Dataset(validation[:25000], tknizer_wrng, tknizer_corr, max_length)\n",
        "\n",
        "train_dataloader = Dataloder(train_dataset, batch_size=128)\n",
        "test_dataloader = Dataloder(test_dataset, batch_size=128)\n",
        "\n",
        "\n",
        "print(train_dataloader[0][0][0].shape, train_dataloader[0][0][1].shape, train_dataloader[0][1].shape)\n",
        "print(test_dataloader[0][0][0].shape, test_dataloader[0][0][1].shape, test_dataloader[0][1].shape)"
      ],
      "execution_count": null,
      "outputs": [
        {
          "output_type": "stream",
          "name": "stdout",
          "text": [
            "(128, 70) (128, 70) (128, 70)\n",
            "(128, 70) (128, 70) (128, 70)\n"
          ]
        }
      ]
    },
    {
      "cell_type": "code",
      "source": [
        "# define callbacks for learning rate scheduling and best checkpoints saving\n",
        "callbacks = [\n",
        "    tf.keras.callbacks.ModelCheckpoint(\"/content/drive/MyDrive/DATA SCIENCE/CASE STUDY 2/MODELS\"+'/best_end_decoder_final_units_512.h5', save_weights_only=True, save_best_only=True, \\\n",
        "                                       mode='min', monitor='val_loss',verbose = 1),\n",
        "    tf.keras.callbacks.EarlyStopping( monitor='val_loss', min_delta=0.01, patience=1, verbose=1,  mode='auto',  baseline=None,  restore_best_weights=True)\n",
        "]"
      ],
      "metadata": {
        "id": "pb5RNdYIXaiG"
      },
      "execution_count": null,
      "outputs": []
    },
    {
      "cell_type": "code",
      "metadata": {
        "id": "AWScVZJXcSZU",
        "colab": {
          "base_uri": "https://localhost:8080/"
        },
        "outputId": "77e74264-498f-4826-e957-21ea8704202a"
      },
      "source": [
        "model1  = MyModel(encoder_inputs_length=max_length,decoder_inputs_length=max_length,output_vocab_size=vocab_size_corr)\n",
        "optimizer = tf.keras.optimizers.Adam()\n",
        "model1.compile(optimizer=optimizer,loss='sparse_categorical_crossentropy')\n",
        "history = model1.fit(train_dataloader, epochs=30, validation_data=test_dataloader,callbacks = callbacks)\n",
        "model1.summary()"
      ],
      "execution_count": null,
      "outputs": [
        {
          "output_type": "stream",
          "name": "stdout",
          "text": [
            "Epoch 1/30\n",
            "3125/3125 [==============================] - ETA: 0s - loss: 0.9100\n",
            "Epoch 1: val_loss improved from inf to 0.58646, saving model to /content/drive/MyDrive/DATA SCIENCE/CASE STUDY 2/MODELS/best_end_decoder_final_units_512.h5\n",
            "3125/3125 [==============================] - 264s 82ms/step - loss: 0.9100 - val_loss: 0.5865\n",
            "Epoch 2/30\n",
            "3125/3125 [==============================] - ETA: 0s - loss: 0.4568\n",
            "Epoch 2: val_loss improved from 0.58646 to 0.38184, saving model to /content/drive/MyDrive/DATA SCIENCE/CASE STUDY 2/MODELS/best_end_decoder_final_units_512.h5\n",
            "3125/3125 [==============================] - 256s 82ms/step - loss: 0.4568 - val_loss: 0.3818\n",
            "Epoch 3/30\n",
            "3125/3125 [==============================] - ETA: 0s - loss: 0.3046\n",
            "Epoch 3: val_loss improved from 0.38184 to 0.29502, saving model to /content/drive/MyDrive/DATA SCIENCE/CASE STUDY 2/MODELS/best_end_decoder_final_units_512.h5\n",
            "3125/3125 [==============================] - 257s 82ms/step - loss: 0.3046 - val_loss: 0.2950\n",
            "Epoch 4/30\n",
            "3125/3125 [==============================] - ETA: 0s - loss: 0.2306\n",
            "Epoch 4: val_loss improved from 0.29502 to 0.24845, saving model to /content/drive/MyDrive/DATA SCIENCE/CASE STUDY 2/MODELS/best_end_decoder_final_units_512.h5\n",
            "3125/3125 [==============================] - 258s 83ms/step - loss: 0.2306 - val_loss: 0.2485\n",
            "Epoch 5/30\n",
            "3125/3125 [==============================] - ETA: 0s - loss: 0.1899\n",
            "Epoch 5: val_loss improved from 0.24845 to 0.21959, saving model to /content/drive/MyDrive/DATA SCIENCE/CASE STUDY 2/MODELS/best_end_decoder_final_units_512.h5\n",
            "3125/3125 [==============================] - 257s 82ms/step - loss: 0.1899 - val_loss: 0.2196\n",
            "Epoch 6/30\n",
            "3125/3125 [==============================] - ETA: 0s - loss: 0.1643\n",
            "Epoch 6: val_loss improved from 0.21959 to 0.20216, saving model to /content/drive/MyDrive/DATA SCIENCE/CASE STUDY 2/MODELS/best_end_decoder_final_units_512.h5\n",
            "3125/3125 [==============================] - 255s 82ms/step - loss: 0.1643 - val_loss: 0.2022\n",
            "Epoch 7/30\n",
            "3125/3125 [==============================] - ETA: 0s - loss: 0.1462\n",
            "Epoch 7: val_loss improved from 0.20216 to 0.18830, saving model to /content/drive/MyDrive/DATA SCIENCE/CASE STUDY 2/MODELS/best_end_decoder_final_units_512.h5\n",
            "3125/3125 [==============================] - 258s 82ms/step - loss: 0.1462 - val_loss: 0.1883\n",
            "Epoch 8/30\n",
            "3125/3125 [==============================] - ETA: 0s - loss: 0.1326\n",
            "Epoch 8: val_loss improved from 0.18830 to 0.18019, saving model to /content/drive/MyDrive/DATA SCIENCE/CASE STUDY 2/MODELS/best_end_decoder_final_units_512.h5\n",
            "Restoring model weights from the end of the best epoch: 7.\n",
            "3125/3125 [==============================] - 258s 83ms/step - loss: 0.1326 - val_loss: 0.1802\n",
            "Epoch 8: early stopping\n",
            "Model: \"my_model_6\"\n",
            "_________________________________________________________________\n",
            " Layer (type)                Output Shape              Param #   \n",
            "=================================================================\n",
            " encoder_6 (Encoder)         multiple                  7845624   \n",
            "                                                                 \n",
            " decoder_6 (Decoder)         multiple                  7826824   \n",
            "                                                                 \n",
            " dense_6 (Dense)             multiple                  33710769  \n",
            "                                                                 \n",
            "=================================================================\n",
            "Total params: 49,383,217\n",
            "Trainable params: 36,221,617\n",
            "Non-trainable params: 13,161,600\n",
            "_________________________________________________________________\n"
          ]
        }
      ]
    },
    {
      "cell_type": "code",
      "source": [
        "\n",
        "# Plot training & validation loss values\n",
        "plt.plot(history.history['loss'])\n",
        "plt.plot(history.history['val_loss'])\n",
        "plt.title('SPARSE CATEGORICAL CROSSENTROPY Loss')\n",
        "plt.ylabel('loss')\n",
        "plt.xlabel('epochs')\n",
        "plt.legend(['train_loss', 'validation_loss'], loc='upper left')\n",
        "plt.show()"
      ],
      "metadata": {
        "id": "pRabsUI9Xyfk",
        "colab": {
          "base_uri": "https://localhost:8080/",
          "height": 295
        },
        "outputId": "9e79325d-0e41-41c4-fd8d-b89242f42813"
      },
      "execution_count": null,
      "outputs": [
        {
          "output_type": "display_data",
          "data": {
            "text/plain": [
              "<Figure size 432x288 with 1 Axes>"
            ],
            "image/png": "[encoded data removed]"
          },
          "metadata": {
            "needs_background": "light"
          }
        }
      ]
    },
    {
      "cell_type": "code",
      "source": [
        "# Save the entire model as a SavedModel.\n",
        "!mkdir -p saved_model\n",
        "model1.save('/content/drive/MyDrive/DATA SCIENCE/CASE STUDY 2/MODELS/saved_model/FINAL_ENCOEDER_DECODER_units_512') "
      ],
      "metadata": {
        "id": "-r_Jc1W2rG_v",
        "colab": {
          "base_uri": "https://localhost:8080/"
        },
        "outputId": "7e18eb80-40b1-498a-9129-f6967a9c1f81"
      },
      "execution_count": null,
      "outputs": [
        {
          "output_type": "stream",
          "name": "stderr",
          "text": [
            "WARNING:absl:Found untraced functions such as embedding_layer_decoder_layer_call_fn, embedding_layer_decoder_layer_call_and_return_conditional_losses, embedding_layer_decoder_layer_call_fn, embedding_layer_decoder_layer_call_and_return_conditional_losses, lstm_cell_13_layer_call_fn while saving (showing 5 of 8). These functions will not be directly callable after loading.\n"
          ]
        }
      ]
    },
    {
      "cell_type": "markdown",
      "source": [
        "## 8. PREDICT"
      ],
      "metadata": {
        "id": "o5AmezRCsB2i"
      }
    },
    {
      "cell_type": "code",
      "source": [
        "print( model1.layers[0] )"
      ],
      "metadata": {
        "colab": {
          "base_uri": "https://localhost:8080/"
        },
        "id": "2j5G6KQJuih4",
        "outputId": "026c304d-66bc-48c7-e79d-cba3461bd0ba"
      },
      "execution_count": null,
      "outputs": [
        {
          "output_type": "stream",
          "name": "stdout",
          "text": [
            "<__main__.Encoder object at 0x7f99ecf3de10>\n"
          ]
        }
      ]
    },
    {
      "cell_type": "code",
      "source": [
        "#defining predict func\n",
        "\n",
        "def predict( input_sentence ) :\n",
        "  \n",
        "    inp = tknizer_wrng.texts_to_sequences ( [ input_sentence ] )\n",
        "    inp  = pad_sequences ( inp , maxlen = vocab_size_wrng , dtype = 'int32' , padding = 'post' )\n",
        "    # print( inp.shape )   \n",
        "    enc_out , enc_h_state , enc_c_state = model1.layers[ 0 ] ( inp )\n",
        "    \n",
        "\n",
        "\n",
        "    dec_inp = np.array ( tknizer_corr.word_index ['<start>'] ).reshape( 1 , 1 )   \n",
        "    dec_stop = tknizer_corr.word_index ['<end>']\n",
        "    \n",
        "    \n",
        "    states = [ enc_h_state , enc_c_state ] \n",
        "    stop_condition = False\n",
        "    \n",
        "    \n",
        "    sent = ''\n",
        "    k = 0\n",
        "\n",
        "    while not stop_condition :\n",
        "        \n",
        "        \n",
        "        \n",
        "        predicted_out , enc_h_state , enc_c_state = model1.layers[ 1 ] ( dec_inp , enc_h_state, enc_c_state )\n",
        "        \n",
        "        #pred prbablities\n",
        "        \n",
        "        \n",
        "        pred_proba = model1.layers [ 2 ] ( predicted_out )\n",
        "        \n",
        "        \n",
        "        \n",
        "\n",
        "        word_ind = np.argmax ( pred_proba , -1 )\n",
        "        pred_str = list ( tknizer_corr.word_index.keys( ) ) [ int ( word_ind - 1 ) ]\n",
        "        sent += ' '+pred_str\n",
        "        \n",
        "        \n",
        "        k += 1\n",
        "        \n",
        "        \n",
        "        #if conditions based on word length\n",
        "        \n",
        "        if k > 130 or int ( word_ind ) == int ( dec_stop ) :\n",
        "            \n",
        "            \n",
        "            stop_condition = True\n",
        "            \n",
        "        dec_inp = word_ind.reshape ( 1 , 1 )\n",
        "        \n",
        "        \n",
        "    #returining sent ans state h#\n",
        "    \n",
        "    return sent , enc_h_state , enc_c_state\n",
        "\n",
        "\n"
      ],
      "metadata": {
        "id": "VlcugX_pr_7X"
      },
      "execution_count": null,
      "outputs": []
    },
    {
      "cell_type": "code",
      "source": [
        "validation['wrong' ].values[ 1010 ] , validation[ \"corr_out\" ].values[ 1010 ]"
      ],
      "metadata": {
        "colab": {
          "base_uri": "https://localhost:8080/"
        },
        "id": "VCATDD4Hr_56",
        "outputId": "637dd330-bcb0-441e-ac4a-0b8cb8e04d14"
      },
      "execution_count": null,
      "outputs": [
        {
          "output_type": "execute_result",
          "data": {
            "text/plain": [
              "(\"no can ewe drive me home i'll bring ewe back in the morning \",\n",
              " \"no  can you drive me home  i'll bring you back in the morning <end>\")"
            ]
          },
          "metadata": {},
          "execution_count": 69
        }
      ]
    },
    {
      "cell_type": "code",
      "source": [
        "#defining start time and end time\n",
        "\n",
        "pred_sent , enc_output , dec_hid  = predict ( validation['wrong'].values[ 1010 ] )\n",
        "pred_sent\n",
        "\n"
      ],
      "metadata": {
        "colab": {
          "base_uri": "https://localhost:8080/",
          "height": 35
        },
        "id": "Md-mUMHur_2L",
        "outputId": "629ebafc-8943-494a-a3ca-e20a04aaac7b"
      },
      "execution_count": null,
      "outputs": [
        {
          "output_type": "execute_result",
          "data": {
            "text/plain": [
              "\" no can you drive me home i'll bring you back in the morning <end>\""
            ],
            "application/vnd.google.colaboratory.intrinsic+json": {
              "type": "string"
            }
          },
          "metadata": {},
          "execution_count": 70
        }
      ]
    },
    {
      "cell_type": "code",
      "source": [
        "test_data_sentences = list(train['wrong'])\n",
        "test_data_sentences_output = list(train['corr_out'])"
      ],
      "metadata": {
        "id": "mVz6syBmr_ul"
      },
      "execution_count": null,
      "outputs": []
    },
    {
      "cell_type": "code",
      "source": [
        "import random\n",
        "from tqdm import tqdm\n",
        "indexes = random.sample(range(0, 111499), 1000)\n",
        "sentences_test = []\n",
        "sentences_test_output = []\n",
        "sentences_test_pred = []\n",
        "for each in tqdm(indexes):\n",
        "\n",
        "  sentences_test.append(test_data_sentences[each])\n",
        "  sentences_test_output.append(test_data_sentences_output[each])\n",
        "  ans,_,_ = predict(test_data_sentences[each])\n",
        "  sentences_test_pred.append(ans)"
      ],
      "metadata": {
        "colab": {
          "base_uri": "https://localhost:8080/"
        },
        "id": "n8gDWA0Dr_ri",
        "outputId": "75926e65-0e31-4557-948b-132febb1c5f5"
      },
      "execution_count": null,
      "outputs": [
        {
          "output_type": "stream",
          "name": "stderr",
          "text": [
            "100%|██████████| 1000/1000 [02:13<00:00,  7.47it/s]\n"
          ]
        }
      ]
    },
    {
      "cell_type": "code",
      "source": [
        "print(sentences_test[2])\n",
        "print(sentences_test_output[2])\n",
        "print(sentences_test_pred[2])"
      ],
      "metadata": {
        "colab": {
          "base_uri": "https://localhost:8080/"
        },
        "id": "Bx5M_vDrK4pf",
        "outputId": "a8d4de7d-9713-4e47-e295-beeb0b794637"
      },
      "execution_count": null,
      "outputs": [
        {
          "output_type": "stream",
          "name": "stdout",
          "text": [
            "we need blood two nourish the stone charge the stone with ener gy \n",
            "we need blood  to nourish the stone  charge the stone with ener gy <end>\n",
            " we need blood to nourish the stone of the sharon once with zowie <end>\n"
          ]
        }
      ]
    },
    {
      "cell_type": "markdown",
      "source": [
        "## 9. Calculating BLEU Score"
      ],
      "metadata": {
        "id": "RE5mC_X2jpOJ"
      }
    },
    {
      "cell_type": "code",
      "metadata": {
        "id": "0iHiLdROM23l",
        "colab": {
          "base_uri": "https://localhost:8080/"
        },
        "outputId": "00a9bf90-924b-4231-9a0e-413a373f05fc"
      },
      "source": [
        "import warnings\n",
        "warnings.filterwarnings('ignore')\n",
        "\n",
        "import nltk.translate.bleu_score as bleu\n",
        "total_score = 0\n",
        "\n",
        "\n",
        "for i in tqdm(range(len(sentences_test_output))):\n",
        "  reference = [sentences_test_output[i].split(),] # the original\n",
        "  translation = sentences_test_pred[i].split()# trasilated using model\n",
        "  total_score += bleu.sentence_bleu(reference, translation)\n",
        "\n",
        "avg_score = total_score/1000\n",
        "print(\"\\navg_score\",avg_score)"
      ],
      "execution_count": null,
      "outputs": [
        {
          "output_type": "stream",
          "name": "stderr",
          "text": [
            "100%|██████████| 1000/1000 [00:00<00:00, 6483.15it/s]"
          ]
        },
        {
          "output_type": "stream",
          "name": "stdout",
          "text": [
            "\n",
            "avg_score 0.7131995131856474\n"
          ]
        },
        {
          "output_type": "stream",
          "name": "stderr",
          "text": [
            "\n"
          ]
        }
      ]
    },
    {
      "cell_type": "code",
      "source": [],
      "metadata": {
        "id": "y1XiPF4wI1ct"
      },
      "execution_count": null,
      "outputs": []
    }
  ]
}